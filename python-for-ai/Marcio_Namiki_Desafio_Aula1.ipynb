{
 "cells": [
  {
   "cell_type": "markdown",
   "metadata": {},
   "source": [
    "# Exercícios"
   ]
  },
  {
   "cell_type": "markdown",
   "metadata": {},
   "source": [
    "## 1) Inicie uma variável com o valor “josé da silva martins” e converta para o formato “José Da Silva Martins”, com uma única operação. Utilize string e/ou capwords.\n"
   ]
  },
  {
   "cell_type": "code",
   "execution_count": null,
   "metadata": {},
   "outputs": [],
   "source": [
    "# resposta 1\n",
    "import string as str\n",
    "nome = str.capwords('josé da silva martins')\n",
    "print(nome)"
   ]
  },
  {
   "cell_type": "markdown",
   "metadata": {},
   "source": [
    "## 2) Crie uma função que verifique se um determinado número é ímpar, sendo ímpar deverá retornar verdadeiro e falso o contrário."
   ]
  },
  {
   "cell_type": "code",
   "execution_count": null,
   "metadata": {},
   "outputs": [],
   "source": [
    "# resposta 2\n",
    "def numero_impar(num):\n",
    "    return False if (num % 2 == 0) else True\n",
    "\n",
    "# Uso da função\n",
    "num = int(input('Digite um Número Inteiro: '))\n",
    "print('O número digitado [%d] %s ímpar.' % (num, ('é' if numero_impar(num) else 'não é')))"
   ]
  },
  {
   "cell_type": "markdown",
   "metadata": {},
   "source": [
    "## 3) Dado uma lista l = [1.2232, 2.322, 43.23131, 6.34324, 78.3243] transforme seus valores para que ao final tenhamos números arrendados na segunda casa decimal. Utilize a função built-in round(numero, casas_decimais)\n"
   ]
  },
  {
   "cell_type": "code",
   "execution_count": null,
   "metadata": {},
   "outputs": [],
   "source": [
    "# resposta 3\n",
    "l = [1.2232, 2.322, 43.23131, 6.34324, 78.3243]\n",
    "for i, v in enumerate(l):\n",
    "    l[i] = round(v,2)\n",
    "print(l)"
   ]
  },
  {
   "cell_type": "markdown",
   "metadata": {},
   "source": [
    "## 4) Crie uma função que retorne na forma de um dicionário as seguintes informações do texto abaixo: número de palavras (e palavras), número de números (e números) e número de frases (e frases). Utilize a função built-in isdigit() do pacote string para verificar se determinado caractere é número e split(separador) para criar uma lista a partir do caracatere ou token de separação."
   ]
  },
  {
   "cell_type": "raw",
   "metadata": {},
   "source": [
    "Brasil, oficialmente República Federativa do Brasil é o maior país da América do Sul e da região da América Latina, sendo o quinto maior do mundo em área territorial (equivalente a 47 porcento do território sul-americano) e sexto em população (com mais de 200 milhões de habitantes). É o único país na América onde se fala majoritariamente a língua portuguesa e o maior país lusófono do planeta, além de ser uma das nações mais multiculturais e etnicamente diversas, em decorrência da forte imigração oriunda de variados locais do mundo."
   ]
  },
  {
   "cell_type": "code",
   "execution_count": null,
   "metadata": {},
   "outputs": [],
   "source": [
    "# resposta 4\n",
    "def dicAnaliseSinteticaDeTokensDoTexto( texto ):\n",
    "    \n",
    "    #setup de variáveis locais\n",
    "    dic = {'nro_palavras':0, 'palavras': 0, 'nro_numeros':0, 'numeros':0, 'nro_frases':0,'frases':0}\n",
    "    numeros=[]\n",
    "    palavras=[]\n",
    "    \n",
    "    #split das frases do parâmetro [texto] usando token '. '\n",
    "    frases = texto.split('. ')\n",
    "    qtdFrases = len(frases)\n",
    "    \n",
    "    #remoção dos caracteres desnecessários para avaliação das palavras\n",
    "    textoSemPontos = texto.replace(\".\",\"\").replace(\",\",\"\").replace(\"(\",\"\").replace(\")\",\"\")\n",
    "    \n",
    "    #split dos tokens (palavras ou números), usando o espaço em branco como separador\n",
    "    tokens = textoSemPontos.split(' ')\n",
    "\n",
    "    for token in tokens:\n",
    "        if token.isdigit():\n",
    "            numeros.append(token)\n",
    "        else:\n",
    "            palavras.append(token)\n",
    "\n",
    "    dic['nro_palavras'] = len(palavras)\n",
    "    dic['palavras'] = palavras\n",
    "    dic['nro_numeros'] = len(numeros)\n",
    "    dic['numeros'] = numeros\n",
    "    dic['nro_frases'] = len(frases)\n",
    "    dic['frases'] = frases\n",
    "    \n",
    "    return dic\n",
    "\n",
    "# Uso da função\n",
    "txt = 'Brasil, oficialmente República Federativa do Brasil é o maior país da América do Sul e da região da América Latina, sendo o quinto maior do mundo em área territorial (equivalente a 47 porcento do território sul-americano) e sexto em população (com mais de 200 milhões de habitantes). É o único país na América onde se fala majoritariamente a língua portuguesa e o maior país lusófono do planeta, além de ser uma das nações mais multiculturais e etnicamente diversas, em decorrência da forte imigração oriunda de variados locais do mundo.'\n",
    "dicAnalise = dicAnaliseSinteticaDeTokensDoTexto(txt)\n",
    "\n",
    "# Impressão do resultado usando pprint\n",
    "import pprint\n",
    "pprint.pprint(dicAnalise)"
   ]
  },
  {
   "cell_type": "markdown",
   "metadata": {},
   "source": [
    "## 5) Implemente um algoritmo que calcule o fatorial de número de modo não-recursivo"
   ]
  },
  {
   "cell_type": "code",
   "execution_count": 8,
   "metadata": {},
   "outputs": [
    {
     "name": "stdout",
     "output_type": "stream",
     "text": [
      "120\n"
     ]
    }
   ],
   "source": [
    "# resposta 5\n",
    "try:\n",
    "    i = int(input('Calcule o fatorial do número Inteiro: '))\n",
    "    fat = i\n",
    "    while i > 2 :\n",
    "        i-=1\n",
    "        fat = fat * i\n",
    "    print (fat)\n",
    "except ValueError:\n",
    "    print('O valor informado não é um número Inteiro')"
   ]
  },
  {
   "cell_type": "markdown",
   "metadata": {},
   "source": [
    "## 6) Implemente duas funções:\n",
    "> Uma que converta graus Celsius para Fahrenheit\n",
    "\n",
    "> Outra que converta graus Fahrenheit para Celsius\n",
    "\n",
    "> 𝐹=  9/5×𝐶+32"
   ]
  },
  {
   "cell_type": "code",
   "execution_count": 47,
   "metadata": {},
   "outputs": [
    {
     "name": "stdout",
     "output_type": "stream",
     "text": [
      "A temperatura 23.00 °F corresponde a -5.00 °C\n"
     ]
    }
   ],
   "source": [
    "# resposta 6\n",
    "def fromC2F(c):\n",
    "    return 9/5*c+32\n",
    "\n",
    "def fromF2C(f):\n",
    "    return (f-32)/1.8\n",
    "\n",
    "#Menu para uso das duas funções:\n",
    "try:\n",
    "    tpConv = int(input('Digite a opção: \\n  [1] para converter °C -> °F \\n  [2] para converter °F -> °C \\n  => '))\n",
    "    entrada = float(input('Informe a temperatura: '))\n",
    "    if tpConv == 1:\n",
    "        unidadeEntrada = '°C'\n",
    "        unidadeSaida = '°F'\n",
    "        resultado = fromC2F(entrada)\n",
    "    else:\n",
    "        unidadeEntrada = '°F'\n",
    "        unidadeSaida = '°C'\n",
    "        resultado = fromF2C(entrada)\n",
    "    print('A temperatura %.2f %s corresponde a %.2f %s' % (entrada, unidadeEntrada, resultado, unidadeSaida))\n",
    "except ValueError:\n",
    "    print ('Valor informado não é uma temperatura.')"
   ]
  },
  {
   "cell_type": "markdown",
   "metadata": {},
   "source": [
    "## 7) Implemente uma função que receba uma lista com 100 números, de 0 a 100, e retorne outra lista contendo apenas os números primos. \n",
    "    > Use numpy.arange para gerar a lista"
   ]
  },
  {
   "cell_type": "code",
   "execution_count": 65,
   "metadata": {},
   "outputs": [
    {
     "name": "stdout",
     "output_type": "stream",
     "text": [
      "Lista Original:\n",
      " [0, 1, 2, 3, 4, 5, 6, 7, 8, 9, 10, 11, 12, 13, 14, 15, 16, 17, 18, 19, 20, 21, 22, 23, 24, 25, 26, 27, 28, 29, 30, 31, 32, 33, 34, 35, 36, 37, 38, 39, 40, 41, 42, 43, 44, 45, 46, 47, 48, 49, 50, 51, 52, 53, 54, 55, 56, 57, 58, 59, 60, 61, 62, 63, 64, 65, 66, 67, 68, 69, 70, 71, 72, 73, 74, 75, 76, 77, 78, 79, 80, 81, 82, 83, 84, 85, 86, 87, 88, 89, 90, 91, 92, 93, 94, 95, 96, 97, 98, 99]\n",
      "Lista de Primos:\n",
      " [2, 3, 5, 7, 11, 13, 17, 19, 23, 29, 31, 37, 41, 43, 47, 53, 59, 61, 67, 71, 73, 79, 83, 89, 97]\n"
     ]
    }
   ],
   "source": [
    "# resposta 7\n",
    "# Premissa: recebe uma lista de números naturais e ordenados (dada criação da lista via numpy.arange().tolist())\n",
    "def primos(lst):\n",
    "    \n",
    "    #limpa os números < 2 da lista, seguindo definição básica de números primos\n",
    "    lst = [i for i in lst if i > 1]\n",
    "    primos = []\n",
    "\n",
    "    while (len(lst) > 0 and lst[-1] >= lst[0]):\n",
    "        proximoPrimo = lst[0]\n",
    "        primos.append(proximoPrimo)\n",
    "\n",
    "        # Remove múltiplos do primo atual, de modo que o 1o elemento da lista seja sempre um número novo nro primo\n",
    "        lst = [i for i in lst if i % proximoPrimo != 0]\n",
    "        \n",
    "    return primos\n",
    "\n",
    "# Uso\n",
    "import numpy as np\n",
    "\n",
    "lista = np.arange(100).tolist()\n",
    "\n",
    "print('Lista Original:\\n', lista)\n",
    "print('Lista de Primos:\\n', primos(lista))"
   ]
  }
 ],
 "metadata": {
  "kernelspec": {
   "display_name": "Python 3",
   "language": "python",
   "name": "python3"
  },
  "language_info": {
   "codemirror_mode": {
    "name": "ipython",
    "version": 3
   },
   "file_extension": ".py",
   "mimetype": "text/x-python",
   "name": "python",
   "nbconvert_exporter": "python",
   "pygments_lexer": "ipython3",
   "version": "3.6.5"
  }
 },
 "nbformat": 4,
 "nbformat_minor": 2
}
