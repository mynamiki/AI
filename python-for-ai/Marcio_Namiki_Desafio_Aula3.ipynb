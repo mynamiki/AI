{
 "cells": [
  {
   "cell_type": "markdown",
   "metadata": {},
   "source": [
    "# Exercícios"
   ]
  },
  {
   "cell_type": "markdown",
   "metadata": {},
   "source": [
    "## 1) Crie uma classe que irá modelar características geométricas de um círculo. Deverá implementar os métodos:\n",
    "        -> Área \n",
    "        -> Perímetro\n",
    "## Utilize atributos de classe e de instância apropriados. Crie um inicializador e métodos.\n",
    "$area = \\pi*r^2$\n",
    "\n",
    "$perimetro = 2*\\pi*r$"
   ]
  },
  {
   "cell_type": "code",
   "execution_count": 47,
   "metadata": {},
   "outputs": [
    {
     "name": "stdout",
     "output_type": "stream",
     "text": [
      "  Raio => 3 \n",
      "  Perimetro => 6 \n"
     ]
    }
   ],
   "source": [
    "# resposta 1\n",
    "class Circle:\n",
    "    \n",
    "    def __init__(self, raio):\n",
    "        import math\n",
    "        self.pi = math.pi\n",
    "        self.raio=raio\n",
    "    \n",
    "    def area(self):\n",
    "        return self.pi * self.raio**2\n",
    "    \n",
    "    def perimetro(self):\n",
    "        return 2 * self.pi * self.raio\n",
    "\n",
    "# Uso\n",
    "r = int(input('Circulo de raio : '))\n",
    "circulo = Circle(r)\n",
    "a = circulo.area()\n",
    "p = circulo.perimetro()\n",
    "print('  Raio => %d \\n  Perimetro => %d ' % (a,p))"
   ]
  },
  {
   "cell_type": "markdown",
   "metadata": {},
   "source": [
    "## 2) Crie uma classe chamada matemática que conterá duas classes: trigonométrica e algébrica. Defina dentro da classe trigonométrica as seguintes funções:\n",
    "    -> seno\n",
    "    -> cosseno\n",
    "    -> tangente\n",
    "## Defina dentro da classe algébrica as seguintes funções: \n",
    "    -> soma\n",
    "    -> subtração\n",
    "    -> multiplicação\n",
    "    -> divisão\n",
    "## Cada função deverá receber array e retornar array"
   ]
  },
  {
   "cell_type": "code",
   "execution_count": 54,
   "metadata": {},
   "outputs": [
    {
     "name": "stdout",
     "output_type": "stream",
     "text": [
      "Funções Trigonométricas\n",
      "Array: [0.0, 1.57, 3.14, 4.71, 6.28]\n",
      "Sen: [0.0, 1.0, 0.0, -1.0, -0.0]\n",
      "Cos: [1.0, 0.0, -1.0, -0.0, 1.0]\n",
      "Tan: [0.0, 1.6331239353195368e+16, -0.0, 5443746451065123.0, -0.0]\n",
      "Funções Algégricas\n",
      "Array 1: array([ 1,  2,  3,  4,  5,  6,  7,  8,  9, 10])\n",
      "Array 2: array([ 10,  20,  30,  40,  50,  60,  70,  80,  90, 100])\n",
      "Soma: array([ 11,  22,  33,  44,  55,  66,  77,  88,  99, 110])\n",
      "Subt: array([ -9, -18, -27, -36, -45, -54, -63, -72, -81, -90])\n",
      "Mult: array([  10,   40,   90,  160,  250,  360,  490,  640,  810, 1000])\n",
      "Divi: array([0.1, 0.1, 0.1, 0.1, 0.1, 0.1, 0.1, 0.1, 0.1, 0.1])\n"
     ]
    }
   ],
   "source": [
    "# resposta 2\n",
    "import math\n",
    "import numpy as np\n",
    "\n",
    "class Matematica:\n",
    "    \n",
    "    class Trigonometrica:\n",
    "\n",
    "        def __init__(self,arr):\n",
    "            self.arr = arr\n",
    "\n",
    "        def seno(self):\n",
    "            return np.sin(self.arr)\n",
    "\n",
    "        def cosseno(self):\n",
    "            return np.cos(self.arr)\n",
    "\n",
    "        def tangente(self):\n",
    "            return np.tan(self.arr)\n",
    "\n",
    "    class Algebrica:\n",
    "\n",
    "        def __init__(self,arr1,arr2):\n",
    "            self.arr1 = arr1\n",
    "            self.arr2 = arr2\n",
    "\n",
    "        def soma(self):\n",
    "            return self.arr1 + self.arr2\n",
    "        \n",
    "        def subtracao(self):\n",
    "            return self.arr1 - self.arr2\n",
    "        \n",
    "        def multiplicacao(self):\n",
    "            return self.arr1 * self.arr2\n",
    "        \n",
    "        def divisao(self):\n",
    "            return self.arr1 / self.arr2\n",
    "\n",
    "#Uso Matematica\n",
    "#Funções Trigonométricas\n",
    "print('Funções Trigonométricas')\n",
    "a = np.array([0, math.pi/2, math.pi, math.pi*(3/2), math.pi*2])\n",
    "print('Array: %a' % [round(x,2) for x in a])\n",
    "trig = Matematica.Trigonometrica(a)\n",
    "print('Sen: %a' % [round(x,2) for x in trig.seno()])\n",
    "print('Cos: %a' % [round(x,2) for x in trig.cosseno()])\n",
    "print('Tan: %a' % [round(x,2) for x in trig.tangente()])\n",
    "\n",
    "#Funções Algébricas\n",
    "print('Funções Algégricas')\n",
    "a1 = np.arange(1,11)\n",
    "a2 = np.arange(10,101,10)\n",
    "print('Array 1: %a' % a1)\n",
    "print('Array 2: %a' % a2)\n",
    "alg = Matematica.Algebrica(a1, a2)\n",
    "print('Soma: %a' % alg.soma())\n",
    "print('Subt: %a' % alg.subtracao())\n",
    "print('Mult: %a' % alg.multiplicacao())\n",
    "print('Divi: %a' % alg.divisao())"
   ]
  },
  {
   "cell_type": "markdown",
   "metadata": {},
   "source": [
    "## 3) Dados 2 arrays, A e B, remova de A todo elemento pertencente a B"
   ]
  },
  {
   "cell_type": "code",
   "execution_count": 50,
   "metadata": {},
   "outputs": [
    {
     "name": "stdout",
     "output_type": "stream",
     "text": [
      "[[9 6 7]\n",
      " [8 8 8]\n",
      " [5 1 4]\n",
      " [6 7 3]]\n",
      "[[3 1 1 3]\n",
      " [1 1 1 2]\n",
      " [3 1 3 1]]\n",
      "[4 5 6 7 8 9]\n"
     ]
    }
   ],
   "source": [
    "# resposta 3\n",
    "a = np.random.randint(1,10,size=[4,3])\n",
    "b = np.random.randint(1,4,size=[3,4])\n",
    "print(a)\n",
    "print(b)\n",
    "r = np.setdiff1d(a,b)\n",
    "print(r)"
   ]
  },
  {
   "cell_type": "markdown",
   "metadata": {},
   "source": [
    "## 4) Crie uma função que recebe um array, um inteiro n e um inteiro m e que retorne outro array contendo elementos que estão entre n e m do array recebido pela função"
   ]
  },
  {
   "cell_type": "code",
   "execution_count": 51,
   "metadata": {},
   "outputs": [
    {
     "name": "stdout",
     "output_type": "stream",
     "text": [
      "[ 1  3  5  8  0  6 14]\n",
      "[3 5 6]\n"
     ]
    }
   ],
   "source": [
    "# resposta 4\n",
    "def resposta4(r, n, m):\n",
    "    return r[(r > n) & (r < m)].copy()\n",
    "\n",
    "#Uso\n",
    "v = np.array([1,3,5,8,0,6,14])\n",
    "print(v)\n",
    "print(resposta4(v, 2, 8))"
   ]
  },
  {
   "cell_type": "markdown",
   "metadata": {},
   "source": [
    "## 5) Escreva uma função que recebe um vetor e um inteiro. Compare cada elemento desse vetor com o número inteiro. Se o elemento do vetor for maior, retorne a diferença entre eles, caso contrário, retorne a soma."
   ]
  },
  {
   "cell_type": "code",
   "execution_count": 52,
   "metadata": {},
   "outputs": [
    {
     "name": "stdout",
     "output_type": "stream",
     "text": [
      "[1 3 5 8 0 6]\n",
      "[3 1 3 6 2 4]\n"
     ]
    }
   ],
   "source": [
    "# resposta 5\n",
    "def resposta5(v, i):\n",
    "    return np.where(v > i, v-i, v+i)\n",
    "\n",
    "#Uso\n",
    "v = np.array([1,3,5,8,0,6])\n",
    "print(v)\n",
    "i = int(input('Digite um número inteiro: '))\n",
    "print(resposta5(v,i))"
   ]
  },
  {
   "cell_type": "markdown",
   "metadata": {},
   "source": [
    "## 6) Dada a seguinte matriz:\n",
    "    -> [ 8,1,7\n",
    "         4,3,9\n",
    "         5,2,6]\n",
    "## escreva uma função que retorne a matriz ordenada por um dos eixos. utilize a função built-in sorted para realizar a ordenação"
   ]
  },
  {
   "cell_type": "code",
   "execution_count": 53,
   "metadata": {},
   "outputs": [
    {
     "name": "stdout",
     "output_type": "stream",
     "text": [
      "Matriz Original\n",
      "[[8 1 7]\n",
      " [4 3 9]\n",
      " [5 2 6]]\n",
      "Matriz ordenada pelo Axis 0\n",
      "[[4 1 6]\n",
      " [5 2 7]\n",
      " [8 3 9]]\n",
      "Matriz ordenada pelo Axis 1\n",
      "[[1 7 8]\n",
      " [3 4 9]\n",
      " [2 5 6]]\n"
     ]
    }
   ],
   "source": [
    "# resposta 6\n",
    "import numpy as np\n",
    "mo = np.array([[8, 1, 7 ], [ 4, 3, 9 ], [5, 2, 6]])\n",
    "\n",
    "print('Matriz Original')\n",
    "print(mo)\n",
    "# Matriz ordenada pelo Axis 1\n",
    "m = mo.copy()\n",
    "print('Matriz ordenada pelo Axis 0')\n",
    "print(np.apply_along_axis(np.sort ,0 ,m))\n",
    "\n",
    "# Matriz ordenada pelo Axis 0\n",
    "m = mo.copy()\n",
    "print('Matriz ordenada pelo Axis 1')\n",
    "print(np.apply_along_axis(np.sort ,1 ,m))"
   ]
  }
 ],
 "metadata": {
  "kernelspec": {
   "display_name": "Python 3",
   "language": "python",
   "name": "python3"
  },
  "language_info": {
   "codemirror_mode": {
    "name": "ipython",
    "version": 3
   },
   "file_extension": ".py",
   "mimetype": "text/x-python",
   "name": "python",
   "nbconvert_exporter": "python",
   "pygments_lexer": "ipython3",
   "version": "3.6.5"
  }
 },
 "nbformat": 4,
 "nbformat_minor": 2
}
