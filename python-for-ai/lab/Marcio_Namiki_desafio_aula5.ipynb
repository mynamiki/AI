{
 "cells": [
  {
   "cell_type": "markdown",
   "metadata": {},
   "source": [
    "# Exercícios"
   ]
  },
  {
   "cell_type": "markdown",
   "metadata": {},
   "source": [
    "### Aluno: Insira seu nome"
   ]
  },
  {
   "cell_type": "markdown",
   "metadata": {},
   "source": [
    "#### Utilizando o arquivo Pokemon.csv, responda as questões abaixo:"
   ]
  },
  {
   "cell_type": "markdown",
   "metadata": {},
   "source": [
    "### 1) Leia o arquivo usando pandas, imprima as 10 primeiras linhas"
   ]
  },
  {
   "cell_type": "code",
   "execution_count": 2,
   "metadata": {},
   "outputs": [],
   "source": [
    "import pandas as pd"
   ]
  },
  {
   "cell_type": "code",
   "execution_count": 3,
   "metadata": {},
   "outputs": [
    {
     "name": "stdout",
     "output_type": "stream",
     "text": [
      "   #                       Name Type 1  Type 2  Total  HP  Attack  Defense  \\\n",
      "0  1                  Bulbasaur  Grass  Poison    318  45      49       49   \n",
      "1  2                    Ivysaur  Grass  Poison    405  60      62       63   \n",
      "2  3                   Venusaur  Grass  Poison    525  80      82       83   \n",
      "3  3      VenusaurMega Venusaur  Grass  Poison    625  80     100      123   \n",
      "4  4                 Charmander   Fire     NaN    309  39      52       43   \n",
      "5  5                 Charmeleon   Fire     NaN    405  58      64       58   \n",
      "6  6                  Charizard   Fire  Flying    534  78      84       78   \n",
      "7  6  CharizardMega Charizard X   Fire  Dragon    634  78     130      111   \n",
      "8  6  CharizardMega Charizard Y   Fire  Flying    634  78     104       78   \n",
      "9  7                   Squirtle  Water     NaN    314  44      48       65   \n",
      "\n",
      "   Sp. Atk  Sp. Def  Speed  Generation  Legendary  \n",
      "0       65       65     45           1      False  \n",
      "1       80       80     60           1      False  \n",
      "2      100      100     80           1      False  \n",
      "3      122      120     80           1      False  \n",
      "4       60       50     65           1      False  \n",
      "5       80       65     80           1      False  \n",
      "6      109       85    100           1      False  \n",
      "7      130       85    100           1      False  \n",
      "8      159      115    100           1      False  \n",
      "9       50       64     43           1      False  \n"
     ]
    }
   ],
   "source": [
    "# resposta 1\n",
    "poke = pd.read_csv('Pokemon.csv')\n",
    "print(poke.head(10))"
   ]
  },
  {
   "cell_type": "markdown",
   "metadata": {},
   "source": [
    "### 2) Altere o nome das colunas passando todas as letras para maiúscula. Substitua o \".\" por \"\""
   ]
  },
  {
   "cell_type": "code",
   "execution_count": 9,
   "metadata": {},
   "outputs": [
    {
     "name": "stdout",
     "output_type": "stream",
     "text": [
      "Empty DataFrame\n",
      "Columns: [#, NAME, TYPE 1, TYPE 2, TOTAL, HP, ATTACK, DEFENSE, SP ATK, SP DEF, SPEED, GENERATION, LEGENDARY]\n",
      "Index: []\n"
     ]
    }
   ],
   "source": [
    "# resposta 2\n",
    "poke.columns = poke.columns.str.upper().str.replace('.', '')\n",
    "print(poke.head(0))"
   ]
  },
  {
   "cell_type": "markdown",
   "metadata": {},
   "source": [
    "### 3) Imprima apenas os pokemons legendários"
   ]
  },
  {
   "cell_type": "code",
   "execution_count": 24,
   "metadata": {},
   "outputs": [
    {
     "name": "stdout",
     "output_type": "stream",
     "text": [
      "                         NAME  LEGENDARY\n",
      "156                  Articuno       True\n",
      "157                    Zapdos       True\n",
      "158                   Moltres       True\n",
      "162                    Mewtwo       True\n",
      "163       MewtwoMega Mewtwo X       True\n",
      "164       MewtwoMega Mewtwo Y       True\n",
      "262                    Raikou       True\n",
      "263                     Entei       True\n",
      "264                   Suicune       True\n",
      "269                     Lugia       True\n",
      "270                     Ho-oh       True\n",
      "414                  Regirock       True\n",
      "415                    Regice       True\n",
      "416                 Registeel       True\n",
      "417                    Latias       True\n",
      "418         LatiasMega Latias       True\n",
      "419                    Latios       True\n",
      "420         LatiosMega Latios       True\n",
      "421                    Kyogre       True\n",
      "422       KyogrePrimal Kyogre       True\n",
      "423                   Groudon       True\n",
      "424     GroudonPrimal Groudon       True\n",
      "425                  Rayquaza       True\n",
      "426     RayquazaMega Rayquaza       True\n",
      "427                   Jirachi       True\n",
      "428        DeoxysNormal Forme       True\n",
      "429        DeoxysAttack Forme       True\n",
      "430       DeoxysDefense Forme       True\n",
      "431         DeoxysSpeed Forme       True\n",
      "537                      Uxie       True\n",
      "..                        ...        ...\n",
      "543                 Regigigas       True\n",
      "544     GiratinaAltered Forme       True\n",
      "545      GiratinaOrigin Forme       True\n",
      "549                   Darkrai       True\n",
      "550         ShayminLand Forme       True\n",
      "551          ShayminSky Forme       True\n",
      "552                    Arceus       True\n",
      "553                   Victini       True\n",
      "699                  Cobalion       True\n",
      "700                 Terrakion       True\n",
      "701                  Virizion       True\n",
      "702   TornadusIncarnate Forme       True\n",
      "703     TornadusTherian Forme       True\n",
      "704  ThundurusIncarnate Forme       True\n",
      "705    ThundurusTherian Forme       True\n",
      "706                  Reshiram       True\n",
      "707                    Zekrom       True\n",
      "708   LandorusIncarnate Forme       True\n",
      "709     LandorusTherian Forme       True\n",
      "710                    Kyurem       True\n",
      "711        KyuremBlack Kyurem       True\n",
      "712        KyuremWhite Kyurem       True\n",
      "792                   Xerneas       True\n",
      "793                   Yveltal       True\n",
      "794          Zygarde50% Forme       True\n",
      "795                   Diancie       True\n",
      "796       DiancieMega Diancie       True\n",
      "797       HoopaHoopa Confined       True\n",
      "798        HoopaHoopa Unbound       True\n",
      "799                 Volcanion       True\n",
      "\n",
      "[65 rows x 2 columns]\n"
     ]
    }
   ],
   "source": [
    "# resposta 3\n",
    "\n",
    "print(poke[poke['LEGENDARY']==True][['NAME','LEGENDARY']])"
   ]
  },
  {
   "cell_type": "markdown",
   "metadata": {},
   "source": [
    "### 4) Verifique os valores faltantes existentes no dataset"
   ]
  },
  {
   "cell_type": "code",
   "execution_count": 25,
   "metadata": {},
   "outputs": [
    {
     "name": "stdout",
     "output_type": "stream",
     "text": [
      "#               0\n",
      "NAME            0\n",
      "TYPE 1          0\n",
      "TYPE 2        386\n",
      "TOTAL           0\n",
      "HP              0\n",
      "ATTACK          0\n",
      "DEFENSE         0\n",
      "SP ATK          0\n",
      "SP DEF          0\n",
      "SPEED           0\n",
      "GENERATION      0\n",
      "LEGENDARY       0\n",
      "dtype: int64\n"
     ]
    }
   ],
   "source": [
    "# resposta 4\n",
    "print(poke.isna().sum())\n",
    "\n",
    "#Detectei que somente a column 'TYPE 2' tem 386 casos de NaN"
   ]
  },
  {
   "cell_type": "markdown",
   "metadata": {},
   "source": [
    "### 5) Preencha os valores faltantes da coluna TYPE 2 com os valores correspondentes da coluna TYPE 1"
   ]
  },
  {
   "cell_type": "code",
   "execution_count": 26,
   "metadata": {},
   "outputs": [
    {
     "name": "stdout",
     "output_type": "stream",
     "text": [
      "#             0\n",
      "NAME          0\n",
      "TYPE 1        0\n",
      "TYPE 2        0\n",
      "TOTAL         0\n",
      "HP            0\n",
      "ATTACK        0\n",
      "DEFENSE       0\n",
      "SP ATK        0\n",
      "SP DEF        0\n",
      "SPEED         0\n",
      "GENERATION    0\n",
      "LEGENDARY     0\n",
      "dtype: int64\n"
     ]
    }
   ],
   "source": [
    "# resposta 5\n",
    "poke['TYPE 2'].fillna(poke['TYPE 1'],inplace=True)\n",
    "\n",
    "# check -> 'TYPE 2' deverá ter 0 casos de NaN\n",
    "print(poke.isna().sum())"
   ]
  },
  {
   "cell_type": "markdown",
   "metadata": {},
   "source": [
    "### 6) Agrupe os pokemons por TYPE 1, ordene pela quantidade em ordem decrescente"
   ]
  },
  {
   "cell_type": "code",
   "execution_count": 28,
   "metadata": {},
   "outputs": [
    {
     "data": {
      "text/plain": [
       "TYPE 1\n",
       "Water       112\n",
       "Normal       98\n",
       "Grass        70\n",
       "Bug          69\n",
       "Psychic      57\n",
       "Fire         52\n",
       "Rock         44\n",
       "Electric     44\n",
       "Ground       32\n",
       "Dragon       32\n",
       "Ghost        32\n",
       "Dark         31\n",
       "Poison       28\n",
       "Steel        27\n",
       "Fighting     27\n",
       "Ice          24\n",
       "Fairy        17\n",
       "Flying        4\n",
       "dtype: int64"
      ]
     },
     "execution_count": 28,
     "metadata": {},
     "output_type": "execute_result"
    }
   ],
   "source": [
    "# resposta 6\n",
    "\n",
    "res = poke.groupby(by = 'TYPE 1').size().sort_values(ascending = False)\n",
    "res"
   ]
  }
 ],
 "metadata": {
  "kernelspec": {
   "display_name": "Python 3",
   "language": "python",
   "name": "python3"
  },
  "language_info": {
   "codemirror_mode": {
    "name": "ipython",
    "version": 3
   },
   "file_extension": ".py",
   "mimetype": "text/x-python",
   "name": "python",
   "nbconvert_exporter": "python",
   "pygments_lexer": "ipython3",
   "version": "3.6.8"
  }
 },
 "nbformat": 4,
 "nbformat_minor": 2
}
