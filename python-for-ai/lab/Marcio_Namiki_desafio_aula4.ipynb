{
 "cells": [
  {
   "cell_type": "markdown",
   "metadata": {},
   "source": [
    "# Exercícios"
   ]
  },
  {
   "cell_type": "markdown",
   "metadata": {},
   "source": [
    "## 1) Considerando o código abaixo, faça:\n",
    "    -> Crie um df a partir de data cujo index seja labels. Faça os imports necessários\n",
    "    -> Preencha os valores faltantes com a média dos valores\n",
    "    -> Retorne uma lista única dos animais\n",
    "    -> Compute as estatísticas básicas (contagem, soma, média, desvio padrão e variância)"
   ]
  },
  {
   "cell_type": "code",
   "execution_count": 2,
   "metadata": {},
   "outputs": [],
   "source": [
    "import numpy as np\n",
    "import pandas as pd"
   ]
  },
  {
   "cell_type": "code",
   "execution_count": 20,
   "metadata": {},
   "outputs": [],
   "source": [
    "data = {'animal': ['cat', 'cat', 'snake', 'dog', 'dog', 'cat', 'snake', 'cat', 'dog', 'dog'],\n",
    "        'age': [2.5, 3, 0.5, np.nan, 5, 2, 4.5, np.nan, 7, 3],\n",
    "        'visits': [1, 3, 2, 3, 2, 3, 1, 1, 2, 1],\n",
    "        'priority': ['yes', 'yes', 'no', 'yes', 'no', 'no', 'no', 'yes', 'no', 'no']}\n",
    "\n",
    "labels = ['a', 'b', 'c', 'd', 'e', 'f', 'g', 'h', 'i', 'j']"
   ]
  },
  {
   "cell_type": "code",
   "execution_count": 21,
   "metadata": {},
   "outputs": [
    {
     "name": "stdout",
     "output_type": "stream",
     "text": [
      "  animal  age  visits priority\n",
      "a    cat  2.5       1      yes\n",
      "b    cat  3.0       3      yes\n",
      "c  snake  0.5       2       no\n",
      "d    dog  NaN       3      yes\n",
      "e    dog  5.0       2       no\n",
      "f    cat  2.0       3       no\n",
      "g  snake  4.5       1       no\n",
      "h    cat  NaN       1      yes\n",
      "i    dog  7.0       2       no\n",
      "j    dog  3.0       1       no\n"
     ]
    }
   ],
   "source": [
    "# resposta 1\n",
    "from pandas import Series, DataFrame\n",
    "\n",
    "#-> Crie um df a partir de data cujo index seja labels. Faça os imports necessários\n",
    "df = DataFrame(data,\n",
    "        columns=['animal', 'age', 'visits', 'priority'],\n",
    "        index=labels)\n",
    "print(df)"
   ]
  },
  {
   "cell_type": "code",
   "execution_count": 22,
   "metadata": {},
   "outputs": [
    {
     "name": "stdout",
     "output_type": "stream",
     "text": [
      "  animal     age  visits priority\n",
      "a    cat  2.5000       1      yes\n",
      "b    cat  3.0000       3      yes\n",
      "c  snake  0.5000       2       no\n",
      "d    dog  3.4375       3      yes\n",
      "e    dog  5.0000       2       no\n",
      "f    cat  2.0000       3       no\n",
      "g  snake  4.5000       1       no\n",
      "h    cat  3.4375       1      yes\n",
      "i    dog  7.0000       2       no\n",
      "j    dog  3.0000       1       no\n"
     ]
    }
   ],
   "source": [
    "#-> Preencha os valores faltantes com a média dos valores\n",
    "df = df.fillna(df.mean())\n",
    "print(df)"
   ]
  },
  {
   "cell_type": "code",
   "execution_count": 12,
   "metadata": {},
   "outputs": [
    {
     "name": "stdout",
     "output_type": "stream",
     "text": [
      "['cat' 'snake' 'dog']\n"
     ]
    }
   ],
   "source": [
    "#-> Retorne uma lista única dos animais\n",
    "\n",
    "animals = Series(df['animal'].values).unique()\n",
    "print(animals)"
   ]
  },
  {
   "cell_type": "code",
   "execution_count": 23,
   "metadata": {},
   "outputs": [
    {
     "name": "stdout",
     "output_type": "stream",
     "text": [
      "                     age     visits\n",
      "contagem       10.000000  10.000000\n",
      "soma           34.375000  19.000000\n",
      "media           3.437500   1.900000\n",
      "desvio padrao   1.679844   0.830662\n",
      "variancia       2.821875   0.690000\n"
     ]
    }
   ],
   "source": [
    "#-> Compute as estatísticas básicas (contagem, soma, média, desvio padrão e variância)\n",
    "\n",
    "def estats_basics (l):\n",
    "    import numpy as np\n",
    "    return [np.count_nonzero(l), np.sum(l), np.mean(l), np.std(l), np.var(l)]\n",
    "\n",
    "estats = {'age': estats_basics(df['age'].values),\n",
    "        'visits': estats_basics(df['visits'].values)}\n",
    "\n",
    "estat_columns = ['age', 'visits']\n",
    "estat_index = ['contagem', 'soma', 'media', 'desvio padrao',  'variancia']\n",
    "\n",
    "estatisticas = DataFrame(estats,\n",
    "                columns=estat_columns,\n",
    "                index=estat_index)\n",
    "\n",
    "print(estatisticas)"
   ]
  },
  {
   "cell_type": "markdown",
   "metadata": {},
   "source": [
    "## 2) Considerando o mesmo código, faça:\n",
    "    -> Crie uma função que multiplique o número de visitas por 2. Retorne o data frame completo com valores atualizados\n",
    "    -> Crie uma função que insere uma coluna que contenha um ranking dos animais mais visitados. Retorne o dataframe ordenado de forma descendente\n",
    "    -> Verifique se os animais da seguinte lista pertencem aos dados originais: New_animals = [‘cow’,’horse’,shark’]"
   ]
  },
  {
   "cell_type": "code",
   "execution_count": 26,
   "metadata": {},
   "outputs": [
    {
     "name": "stdout",
     "output_type": "stream",
     "text": [
      "  animal     age  visits priority\n",
      "a    cat  2.5000       2      yes\n",
      "b    cat  3.0000       6      yes\n",
      "c  snake  0.5000       4       no\n",
      "d    dog  3.4375       6      yes\n",
      "e    dog  5.0000       4       no\n",
      "f    cat  2.0000       6       no\n",
      "g  snake  4.5000       2       no\n",
      "h    cat  3.4375       2      yes\n",
      "i    dog  7.0000       4       no\n",
      "j    dog  3.0000       2       no\n"
     ]
    }
   ],
   "source": [
    "# resposta 2\n",
    "\n",
    "# -> Crie uma função que multiplique o número de visitas por 2. Retorne o data frame completo com valores atualizados\n",
    "f = lambda x: x * 2\n",
    "\n",
    "df['visits'] = df['visits'].apply(f)\n",
    "print(df)"
   ]
  },
  {
   "cell_type": "code",
   "execution_count": 67,
   "metadata": {},
   "outputs": [
    {
     "name": "stdout",
     "output_type": "stream",
     "text": [
      "  animal     age  visits priority  rank\n",
      "b    cat  3.0000       6      yes   9.0\n",
      "d    dog  3.4375       6      yes   9.0\n",
      "f    cat  2.0000       6       no   9.0\n",
      "c  snake  0.5000       4       no   6.0\n",
      "e    dog  5.0000       4       no   6.0\n",
      "i    dog  7.0000       4       no   6.0\n",
      "a    cat  2.5000       2      yes   2.5\n",
      "g  snake  4.5000       2       no   2.5\n",
      "h    cat  3.4375       2      yes   2.5\n",
      "j    dog  3.0000       2       no   2.5\n"
     ]
    }
   ],
   "source": [
    "# -> Crie uma função que insere uma coluna que contenha um ranking dos animais mais visitados.\n",
    "#Retorne o dataframe ordenado de forma descendente\n",
    "\n",
    "df['rank'] = df['visits'].rank()\n",
    "df = df.sort_values(by = 'rank', ascending=False)\n",
    "print(df)"
   ]
  },
  {
   "cell_type": "code",
   "execution_count": 97,
   "metadata": {},
   "outputs": [
    {
     "data": {
      "text/plain": [
       "cow      False\n",
       "horse    False\n",
       "shark    False\n",
       "dtype: bool"
      ]
     },
     "execution_count": 97,
     "metadata": {},
     "output_type": "execute_result"
    }
   ],
   "source": [
    "# -> Verifique se os animais da seguinte lista pertencem aos dados originais:\n",
    "# New_animals = [‘cow’,’horse’,shark’]\n",
    "new_animals = ['cow', 'horse', 'shark']\n",
    "Series(new_animals,index=new_animals).isin(Series(df['animal']))"
   ]
  },
  {
   "cell_type": "markdown",
   "metadata": {},
   "source": [
    "## 3) Crie uma função que filtre as linhas do df no código abaixo de acordo com a palavra-chave passada como parâmetro (apenas estado):"
   ]
  },
  {
   "cell_type": "code",
   "execution_count": 98,
   "metadata": {},
   "outputs": [
    {
     "name": "stdout",
     "output_type": "stream",
     "text": [
      "          DateofBirth State\n",
      "Jane       1986-11-11    NY\n",
      "Nick       1999-05-12    TX\n",
      "Aaron      1976-01-01    FL\n",
      "Penelope   1986-06-01    AL\n",
      "Dean       1983-06-04    AK\n",
      "Christina  1990-03-07    TX\n",
      "Cornelia   1999-07-09    TX\n"
     ]
    }
   ],
   "source": [
    "df = pd.DataFrame({'DateofBirth':['1986-11-11','1999-05-12','1976-01-01',\n",
    "                                  '1986-06-01','1983-06-04','1990-03-07',\n",
    "                                  '1999-07-09'],\n",
    "                   'State':['NY','TX','FL','AL','AK','TX','TX']},\n",
    "                 index=['Jane','Nick','Aaron','Penelope','Dean',\n",
    "                        'Christina','Cornelia'])\n",
    "print(df)"
   ]
  },
  {
   "cell_type": "code",
   "execution_count": 107,
   "metadata": {},
   "outputs": [
    {
     "data": {
      "text/html": [
       "<div>\n",
       "<style scoped>\n",
       "    .dataframe tbody tr th:only-of-type {\n",
       "        vertical-align: middle;\n",
       "    }\n",
       "\n",
       "    .dataframe tbody tr th {\n",
       "        vertical-align: top;\n",
       "    }\n",
       "\n",
       "    .dataframe thead th {\n",
       "        text-align: right;\n",
       "    }\n",
       "</style>\n",
       "<table border=\"1\" class=\"dataframe\">\n",
       "  <thead>\n",
       "    <tr style=\"text-align: right;\">\n",
       "      <th></th>\n",
       "      <th>DateofBirth</th>\n",
       "      <th>State</th>\n",
       "    </tr>\n",
       "  </thead>\n",
       "  <tbody>\n",
       "    <tr>\n",
       "      <th>Nick</th>\n",
       "      <td>1999-05-12</td>\n",
       "      <td>TX</td>\n",
       "    </tr>\n",
       "    <tr>\n",
       "      <th>Christina</th>\n",
       "      <td>1990-03-07</td>\n",
       "      <td>TX</td>\n",
       "    </tr>\n",
       "    <tr>\n",
       "      <th>Cornelia</th>\n",
       "      <td>1999-07-09</td>\n",
       "      <td>TX</td>\n",
       "    </tr>\n",
       "  </tbody>\n",
       "</table>\n",
       "</div>"
      ],
      "text/plain": [
       "          DateofBirth State\n",
       "Nick       1999-05-12    TX\n",
       "Christina  1990-03-07    TX\n",
       "Cornelia   1999-07-09    TX"
      ]
     },
     "execution_count": 107,
     "metadata": {},
     "output_type": "execute_result"
    }
   ],
   "source": [
    "state = 'TX'\n",
    "\n",
    "df[df['State']==state]"
   ]
  }
 ],
 "metadata": {
  "kernelspec": {
   "display_name": "Python 3",
   "language": "python",
   "name": "python3"
  },
  "language_info": {
   "codemirror_mode": {
    "name": "ipython",
    "version": 3
   },
   "file_extension": ".py",
   "mimetype": "text/x-python",
   "name": "python",
   "nbconvert_exporter": "python",
   "pygments_lexer": "ipython3",
   "version": "3.6.8"
  }
 },
 "nbformat": 4,
 "nbformat_minor": 2
}
