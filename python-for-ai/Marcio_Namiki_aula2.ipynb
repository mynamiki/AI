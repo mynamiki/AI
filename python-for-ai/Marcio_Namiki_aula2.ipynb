{
 "cells": [
  {
   "cell_type": "markdown",
   "metadata": {},
   "source": [
    "# Exercícios"
   ]
  },
  {
   "cell_type": "markdown",
   "metadata": {},
   "source": [
    "## 1) Escreva uma função que verifique se há uma letra no começo de uma frase. Se houver, retorne True, caso contrário, retorne False. "
   ]
  },
  {
   "cell_type": "code",
   "execution_count": 190,
   "metadata": {},
   "outputs": [
    {
     "name": "stdout",
     "output_type": "stream",
     "text": [
      "True\n"
     ]
    }
   ],
   "source": [
    "# resposta 1\n",
    "def comeca_com_letra(frase):\n",
    "    import re\n",
    "    return re.search (r'^([a-z]|[A-Z])', frase) != None\n",
    "\n",
    "# Uso\n",
    "print(comeca_com_letra('Aprendendo Python para AI'))"
   ]
  },
  {
   "cell_type": "markdown",
   "metadata": {},
   "source": [
    "## 2) Reescreva a seguinte função usando:\n",
    "    -> map e lambda\n",
    "    -> list comprehension"
   ]
  },
  {
   "cell_type": "code",
   "execution_count": 17,
   "metadata": {},
   "outputs": [
    {
     "name": "stdout",
     "output_type": "stream",
     "text": [
      "[0, 1, 4, 9, 16, 25, 36, 49, 64, 81]\n"
     ]
    }
   ],
   "source": [
    "# resposta 2-a\n",
    "# map e lambda\n",
    "squares = map(lambda num: num**2, range(10))\n",
    "print(list(squares))"
   ]
  },
  {
   "cell_type": "code",
   "execution_count": 18,
   "metadata": {},
   "outputs": [
    {
     "name": "stdout",
     "output_type": "stream",
     "text": [
      "[0, 1, 4, 9, 16, 25, 36, 49, 64, 81]\n"
     ]
    }
   ],
   "source": [
    "# resposta 2-b\n",
    "# list comprehension\n",
    "s = [x**2 for x in range(10)]\n",
    "print(s)"
   ]
  },
  {
   "cell_type": "markdown",
   "metadata": {},
   "source": [
    "## 3) Escreva em Python uma função que, dadas duas listas não vazias e de mesmo comprimento, retorne como resultado uma nova lista contendo em cada posição a soma dos elementos correspondentes nas duas listas recebidas.\n",
    "    -> l1 = [1,2,3,4,5]\n",
    "    -> l2 = [1,2,3,4,5]\n",
    "    -> resultado = [2,4,6,8,10]"
   ]
  },
  {
   "cell_type": "code",
   "execution_count": 38,
   "metadata": {},
   "outputs": [
    {
     "name": "stdout",
     "output_type": "stream",
     "text": [
      "[2, 4, 6, 8, 10]\n"
     ]
    }
   ],
   "source": [
    "# resposta 3\n",
    "def soma_lista(l1,l2):\n",
    "    return map(lambda a: sum(a), list(zip(l1,l2)))\n",
    "\n",
    "#Uso\n",
    "lista1 = [1,2,3,4,5]\n",
    "lista2 = [1,2,3,4,5]\n",
    "print(list(somaLista(lista1,lista2)))"
   ]
  },
  {
   "cell_type": "markdown",
   "metadata": {},
   "source": [
    "## 4) A amplitude de um vetor 3D é dado pela seguinte fórmula: $\\sqrt{x^2 + y^2 + z^2}$\n",
    "## Escreva uma função, usando lambda, que calcule a amplitude dos seguintes vetores:\n",
    "    -> (1,1,1) \n",
    "    -> (3,4,5)"
   ]
  },
  {
   "cell_type": "code",
   "execution_count": 40,
   "metadata": {},
   "outputs": [
    {
     "name": "stdout",
     "output_type": "stream",
     "text": [
      "A amplitude do vetor (1, 1, 1) é 1.73\n",
      "A amplitude do vetor (3, 4, 5) é 7.07\n"
     ]
    }
   ],
   "source": [
    "# resposta 4\n",
    "def amplitude(vetor):\n",
    "    import math\n",
    "    return math.sqrt(sum([x**2 for x in vetor]))\n",
    "\n",
    "#Uso\n",
    "l = [(1,1,1),(3,4,5)]\n",
    "for v in l:\n",
    "    print('A amplitude do vetor %s é %.2f' % (str(v), amplitude(v)))"
   ]
  },
  {
   "cell_type": "markdown",
   "metadata": {},
   "source": [
    "## 5) Use reduce para criar uma função que calcule o fatorial de qualquer número n"
   ]
  },
  {
   "cell_type": "code",
   "execution_count": 193,
   "metadata": {},
   "outputs": [
    {
     "name": "stdout",
     "output_type": "stream",
     "text": [
      "6227020800\n"
     ]
    }
   ],
   "source": [
    "# resposta 5\n",
    "def fatorial(n):\n",
    "    from functools import reduce\n",
    "    return reduce(lambda x, y: x*y, range(2,n+1,1))\n",
    "\n",
    "#Uso\n",
    "n = int(input('Calcule o fatorial de : '))\n",
    "print(fatorial(n))"
   ]
  },
  {
   "cell_type": "markdown",
   "metadata": {},
   "source": [
    "## 6) Reescreva a função abaixo usando list comprehension:"
   ]
  },
  {
   "cell_type": "code",
   "execution_count": 191,
   "metadata": {},
   "outputs": [
    {
     "name": "stdout",
     "output_type": "stream",
     "text": [
      "['the', 'quick', 'brown', 'fox', 'jumps', 'over', 'the', 'lazy', 'dog']\n",
      "[5, 5, 3, 5, 4, 4, 3]\n"
     ]
    }
   ],
   "source": [
    "sentence = \"the quick brown fox jumps over the lazy dog\"\n",
    "words = sentence.split()\n",
    "word_lengths = []\n",
    "for word in words:\n",
    "    if word != \"the\":\n",
    "        word_lengths.append(len(word))\n",
    "print(words)\n",
    "print(word_lengths)"
   ]
  },
  {
   "cell_type": "code",
   "execution_count": 192,
   "metadata": {},
   "outputs": [
    {
     "name": "stdout",
     "output_type": "stream",
     "text": [
      "['the', 'quick', 'brown', 'fox', 'jumps', 'over', 'the', 'lazy', 'dog']\n",
      "[5, 5, 3, 5, 4, 4, 3]\n"
     ]
    }
   ],
   "source": [
    "# resposta 6\n",
    "sentence = \"the quick brown fox jumps over the lazy dog\"\n",
    "words = sentence.split()\n",
    "word_lenghts = []\n",
    "\n",
    "#solução\n",
    "[word_lenghts.append(len(word)) for word in words if word != 'the']\n",
    "\n",
    "print(words)\n",
    "print(word_lenghts)"
   ]
  },
  {
   "cell_type": "markdown",
   "metadata": {},
   "source": [
    "## 7) Calcule o número de meses desde a data que o brasil foi descoberto. Considere um mês com 30 dias. Dia do descobrimento do Brasil 22/04/1500."
   ]
  },
  {
   "cell_type": "code",
   "execution_count": 194,
   "metadata": {},
   "outputs": [
    {
     "name": "stdout",
     "output_type": "stream",
     "text": [
      "Passaram-se 6319.8 (meses)\n",
      "    desde o descobrimento do Brasil em 1500-04-22 \n",
      "    até hoje [2019-05-25]\n"
     ]
    }
   ],
   "source": [
    "# resposta 7\n",
    "import datetime\n",
    "from datetime import timedelta\n",
    "\n",
    "desc_brasil = datetime.datetime(1500, 4, 22) #criando uma data com horário\n",
    "dd = desc_brasil.today() - desc_brasil #cálculo de tempo\n",
    "print ('Passaram-se %.1f (meses)\\n    desde o descobrimento do Brasil em %s \\n\\\n",
    "    até hoje [%s]' % (dd.days/30 , str(desc_brasil.date()), str(desc_brasil.today().date())))"
   ]
  },
  {
   "cell_type": "markdown",
   "metadata": {},
   "source": [
    "## 8) Implementar um programa que receba um nome de arquivo e gere estatísticas sobre o arquivo (número de caracteres, número de linhas e número de palavras)\n",
    "    -> verifique a existência do arquivo\n",
    "    -> crie um arquivo de texto fictício contendo 10 linhas"
   ]
  },
  {
   "cell_type": "code",
   "execution_count": 195,
   "metadata": {},
   "outputs": [
    {
     "name": "stdout",
     "output_type": "stream",
     "text": [
      "Resultado:\n",
      "  1380 caracteres\n",
      "  10 linhas\n",
      "  215 palavras\n"
     ]
    }
   ],
   "source": [
    "# resposta 8\n",
    "import traceback\n",
    "import os.path\n",
    "\n",
    "# Tente receber o nome do arquivo 'Seculo XXI o Sec da Africa.txt'\n",
    "try:\n",
    "    filename = input('Nome do arquivo: ').strip()\n",
    "    if exists(fn):\n",
    "        # Numerando as linhas\n",
    "        infile=open(filename, \"r\")\n",
    "        content=infile.read()\n",
    "        \n",
    "        saida = [(len(c), len(c.split('\\n')), len(c.split(' '))) for c in [content]]\n",
    "        #print(saida)\n",
    "        print('Resultado:\\n  %d caracteres' % saida[0][0])\n",
    "        print('  %d linhas' % saida[0][1])\n",
    "        print('  %d palavras' % saida[0][2])\n",
    "    else:\n",
    "        # Arquivo não existe\n",
    "        print('[!] ERRO CONHECIDO: O arquivo \\'%s\\' não foi encontrado no diretório\\n>>  \\'%s\\'\\n\\\n",
    "        \\nPor favor, verifique e tente novamente.' % (filename, str(os.getcwd())))\n",
    "except:\n",
    "    # Mostre na tela\n",
    "    trace = traceback.format_exc()\n",
    "    print ('[!] ERRO INESPERADO:\\n', trace)\n",
    "    # Encerre o programa\n",
    "    raise SystemExit"
   ]
  }
 ],
 "metadata": {
  "kernelspec": {
   "display_name": "Python 3",
   "language": "python",
   "name": "python3"
  },
  "language_info": {
   "codemirror_mode": {
    "name": "ipython",
    "version": 3
   },
   "file_extension": ".py",
   "mimetype": "text/x-python",
   "name": "python",
   "nbconvert_exporter": "python",
   "pygments_lexer": "ipython3",
   "version": "3.6.5"
  }
 },
 "nbformat": 4,
 "nbformat_minor": 2
}
